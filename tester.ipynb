{
 "cells": [
  {
   "cell_type": "code",
   "execution_count": 7,
   "metadata": {},
   "outputs": [
    {
     "name": "stdout",
     "output_type": "stream",
     "text": [
      "Module flat_tax_on_salary_tutorial importé.\n"
     ]
    }
   ],
   "source": [
    "from openfisca_france import FranceTaxBenefitSystem\n",
    "\n",
    "# Charger le modèle fiscal\n",
    "tax_benefit_system = FranceTaxBenefitSystem()\n",
    "\n",
    "# Afficher toutes les variables disponibles\n",
    "all_variables = tax_benefit_system.variables\n",
    "#print(\"\\n\".join(all_variables.keys()))"
   ]
  },
  {
   "cell_type": "code",
   "execution_count": 8,
   "metadata": {},
   "outputs": [
    {
     "name": "stdout",
     "output_type": "stream",
     "text": [
      "✅ Variable trouvée !\n",
      "Nom : date_naissance\n",
      "Type : <class 'datetime.date'>\n",
      "Période : eternity\n"
     ]
    }
   ],
   "source": [
    "if \"date_naissance\" in all_variables:\n",
    "    variable_info = all_variables[\"date_naissance\"]\n",
    "    print(\"✅ Variable trouvée !\")\n",
    "    print(\"Nom :\", variable_info.name)\n",
    "    print(\"Type :\", variable_info.value_type)\n",
    "    print(\"Période :\", variable_info.definition_period)\n",
    "else:\n",
    "    print(\"⚠️ La variable cherchée n'est pas reconnue par OpenFisca !\")"
   ]
  },
  {
   "cell_type": "code",
   "execution_count": 9,
   "metadata": {},
   "outputs": [],
   "source": [
    "import sys\n",
    "sys.path.append(r\"C:\\Documents\\Stage PSE\\Projet\\openfisca-france\")\n"
   ]
  },
  {
   "cell_type": "code",
   "execution_count": 10,
   "metadata": {},
   "outputs": [],
   "source": [
    "from openfisca_france.model.tutorials.flat_tax_on_salary_tutorial import flat_tax_on_salary"
   ]
  },
  {
   "cell_type": "code",
   "execution_count": 38,
   "metadata": {},
   "outputs": [
    {
     "name": "stdout",
     "output_type": "stream",
     "text": [
      "Module flat_tax_on_salary_tutorial importé.\n",
      "Module salary_tutorial importé.\n",
      "[2000.]\n"
     ]
    }
   ],
   "source": [
    "from openfisca_france.model.tutorials.flat_tax_on_salary_tutorial import flat_tax_on_salary\n",
    "from openfisca_france.model.tutorials.salary_tutorial import salary\n",
    "from openfisca_france import FranceTaxBenefitSystem\n",
    "from openfisca_core.simulation_builder import SimulationBuilder\n",
    "\n",
    "\n",
    "# Charger le système fiscal\n",
    "tax_benefit_system = FranceTaxBenefitSystem()\n",
    "\n",
    "# Construire la simulation avec des données d'entrée\n",
    "builder = SimulationBuilder()\n",
    "input_data = {\n",
    "    'flat_tax_on_salary': {\"2017-01\": 2000.}  \n",
    "}\n",
    "\n",
    "# - name: \"Flax tax on salary - No income\"\n",
    "#   period: 2017-01\n",
    "#   input:\n",
    "#     salary: 0\n",
    "#   output:\n",
    "#     flat_tax_on_salary: 0\n",
    "\n",
    "simulation = builder.build_from_dict(tax_benefit_system, input_data)\n",
    "\n",
    "#print(\"Tax Benefit System :\", tax_benefit_system, '1')\n",
    "\n",
    "#print(simulation, '2')\n",
    "\n",
    "\n",
    "# Calculer la sortie pour la variable `flat_tax_on_salary`\n",
    "result = simulation.calculate('flat_tax_on_salary', \"2017-01\")\n",
    "print(result)\n",
    "\n",
    "# #Vérifier le résultat\n",
    "# expected_result = 0\n",
    "# assert result[\"p1\"] == expected_result, f\"Test échoué : attendu {expected_result}, obtenu {result['p1']}\"\n",
    "# print(\"Test réussi : flat_tax_on_salary =\", result[\"p1\"])\n"
   ]
  },
  {
   "cell_type": "code",
   "execution_count": 12,
   "metadata": {},
   "outputs": [
    {
     "name": "stdout",
     "output_type": "stream",
     "text": [
      "Module flat_tax_on_salary_tutorial importé.\n"
     ]
    },
    {
     "ename": "AttributeError",
     "evalue": "'NoneType' object has no attribute 'calculate'",
     "output_type": "error",
     "traceback": [
      "\u001b[1;31m---------------------------------------------------------------------------\u001b[0m",
      "\u001b[1;31mAttributeError\u001b[0m                            Traceback (most recent call last)",
      "Cell \u001b[1;32mIn[12], line 41\u001b[0m\n\u001b[0;32m     38\u001b[0m     \u001b[38;5;28mprint\u001b[39m(\u001b[38;5;124m\"\u001b[39m\u001b[38;5;124mTest réussi : flat_tax_on_salary =\u001b[39m\u001b[38;5;124m\"\u001b[39m, result[\u001b[38;5;124m\"\u001b[39m\u001b[38;5;124mp1\u001b[39m\u001b[38;5;124m\"\u001b[39m])\n\u001b[0;32m     40\u001b[0m \u001b[38;5;28;01mif\u001b[39;00m \u001b[38;5;18m__name__\u001b[39m \u001b[38;5;241m==\u001b[39m \u001b[38;5;124m\"\u001b[39m\u001b[38;5;124m__main__\u001b[39m\u001b[38;5;124m\"\u001b[39m:\n\u001b[1;32m---> 41\u001b[0m     \u001b[43mtest_flat_tax_on_salary_no_income\u001b[49m\u001b[43m(\u001b[49m\u001b[43m)\u001b[49m\n",
      "Cell \u001b[1;32mIn[12], line 31\u001b[0m, in \u001b[0;36mtest_flat_tax_on_salary_no_income\u001b[1;34m()\u001b[0m\n\u001b[0;32m     28\u001b[0m simulation \u001b[38;5;241m=\u001b[39m builder\u001b[38;5;241m.\u001b[39mbuild_from_dict(tax_benefit_system, input_data)\n\u001b[0;32m     30\u001b[0m \u001b[38;5;66;03m# Calculer la sortie pour la variable 'flat_tax_on_salary' pour la période \"2017-01\"\u001b[39;00m\n\u001b[1;32m---> 31\u001b[0m result \u001b[38;5;241m=\u001b[39m \u001b[43msimulation\u001b[49m\u001b[38;5;241;43m.\u001b[39;49m\u001b[43mcalculate\u001b[49m(\u001b[38;5;124m\"\u001b[39m\u001b[38;5;124mflat_tax_on_salary\u001b[39m\u001b[38;5;124m\"\u001b[39m, \u001b[38;5;124m\"\u001b[39m\u001b[38;5;124m2017-01\u001b[39m\u001b[38;5;124m\"\u001b[39m)\n\u001b[0;32m     33\u001b[0m \u001b[38;5;66;03m# Résultat attendu : flat_tax_on_salary devrait être 0 pour un salaire nul\u001b[39;00m\n\u001b[0;32m     34\u001b[0m expected_result \u001b[38;5;241m=\u001b[39m \u001b[38;5;241m0\u001b[39m\n",
      "\u001b[1;31mAttributeError\u001b[0m: 'NoneType' object has no attribute 'calculate'"
     ]
    }
   ],
   "source": [
    "# test_flat_tax_on_salary.py\n",
    "\n",
    "from openfisca_france import FranceTaxBenefitSystem\n",
    "from openfisca_core.simulation_builder import SimulationBuilder\n",
    "\n",
    "\n",
    "def test_flat_tax_on_salary_no_income():\n",
    "    \"\"\"\n",
    "    Test de la variable 'flat_tax_on_salary' pour une personne sans revenu.\n",
    "    \n",
    "    Scénario :\n",
    "      - La personne p1 a un salaire de 0 pour le mois de janvier 2017.\n",
    "      - On s'attend à ce que flat_tax_on_salary soit également 0.\n",
    "    \"\"\"\n",
    "    # Charger le système fiscal\n",
    "    tax_benefit_system = FranceTaxBenefitSystem()\n",
    "\n",
    "    # Préparer les données d'entrée pour la simulation\n",
    "    input_data = {\n",
    "        \"salary\": {\n",
    "            \"2017-01\": {\n",
    "                \"p1\": 0  # 'p1' représente une personne avec un salaire de 0\n",
    "            }\n",
    "        }\n",
    "    }\n",
    "\n",
    "    # Construire la simulation à partir des données d'entrée\n",
    "    builder = SimulationBuilder()\n",
    "    simulation = builder.build_from_dict(tax_benefit_system, input_data)\n",
    "\n",
    "    # Calculer la sortie pour la variable 'flat_tax_on_salary' pour la période \"2017-01\"\n",
    "    result = simulation.calculate(\"flat_tax_on_salary\", \"2017-01\")\n",
    "\n",
    "    # Résultat attendu : flat_tax_on_salary devrait être 0 pour un salaire nul\n",
    "    expected_result = 0\n",
    "    assert result[\"p1\"] == expected_result, (\n",
    "        f\"Test échoué : attendu {expected_result}, obtenu {result['p1']}\"\n",
    "    )\n",
    "    print(\"Test réussi : flat_tax_on_salary =\", result[\"p1\"])\n",
    "\n",
    "if __name__ == \"__main__\":\n",
    "    test_flat_tax_on_salary_no_income()\n"
   ]
  },
  {
   "cell_type": "code",
   "execution_count": 11,
   "metadata": {},
   "outputs": [
    {
     "name": "stdout",
     "output_type": "stream",
     "text": [
      "Simulation non créée.\n"
     ]
    }
   ],
   "source": [
    "input_data = {\n",
    "    \"salary\": {\"2017-01\": {\"p1\": 1000}}\n",
    "}\n",
    "simulation = builder.build_from_dict(tax_benefit_system, input_data)\n",
    "if simulation:\n",
    "    result = simulation.calculate(\"income_tax\", \"2017-01\")\n",
    "    print(\"Income tax result :\", result)\n",
    "else:\n",
    "    print(\"Simulation non créée.\")\n"
   ]
  },
  {
   "cell_type": "code",
   "execution_count": 25,
   "metadata": {},
   "outputs": [
    {
     "name": "stdout",
     "output_type": "stream",
     "text": [
      "Module flat_tax_on_salary_tutorial importé.\n",
      "✅ La variable 'flat_tax_on_salary' est bien enregistrée dans le système fiscal.\n"
     ]
    }
   ],
   "source": [
    "from openfisca_france import FranceTaxBenefitSystem\n",
    "from openfisca_france.model.tutorials.salary_tutorial import salary\n",
    "\n",
    "tax_benefit_system = FranceTaxBenefitSystem()\n",
    "#flat_tax_on_salary\n",
    "#depcom_entreprise\n",
    "#salary\n",
    "# Vérifier si 'flat_tax_on_salary' est dans les variables disponibles\n",
    "if \"salary\" in tax_benefit_system.variables.keys():\n",
    "    print(\"✅ La variable 'flat_tax_on_salary' est bien enregistrée dans le système fiscal.\")\n",
    "else:\n",
    "    print(\"❌ La variable 'flat_tax_on_salary' n'est pas enregistrée dans le système fiscal.\")\n"
   ]
  },
  {
   "cell_type": "code",
   "execution_count": 38,
   "metadata": {},
   "outputs": [
    {
     "name": "stdout",
     "output_type": "stream",
     "text": [
      "Module flat_tax_on_salary_tutorial importé.\n",
      "✅ La variable 'flat_tax_on_salary' est bien enregistrée dans le système fiscal.\n"
     ]
    }
   ],
   "source": [
    "from openfisca_france import FranceTaxBenefitSystem\n",
    "\n",
    "# Initialiser le système fiscal\n",
    "tax_benefit_system = FranceTaxBenefitSystem()\n",
    "\n",
    "# Vérifier si 'flat_tax_on_salary' est dans les variables disponibles\n",
    "if \"housing_tax\" in tax_benefit_system.variables.keys():\n",
    "    print(\"✅ La variable 'flat_tax_on_salary' est bien enregistrée dans le système fiscal.\")\n",
    "else:\n",
    "    print(\"❌ La variable 'flat_tax_on_salary' n'est pas enregistrée dans le système fiscal.\")\n"
   ]
  },
  {
   "cell_type": "code",
   "execution_count": 40,
   "metadata": {},
   "outputs": [
    {
     "ename": "VariableNotFoundError",
     "evalue": "You tried to calculate or to set a value for variable 'housing_tax', but it was not found in the loaded tax and benefit system (openfisca-france@169.14.10).\r\nAre you sure you spelled 'housing_tax' correctly?\r\nIf this code used to work and suddenly does not, this is most probably linked to an update of the tax and benefit system.\r\nLook at its changelog to learn about renames and removals and update your code. If it is an official package,\r\nit is probably available on <https://github.com/openfisca/openfisca-france/blob/master/CHANGELOG.md>.",
     "output_type": "error",
     "traceback": [
      "\u001b[1;31m---------------------------------------------------------------------------\u001b[0m",
      "\u001b[1;31mVariableNotFoundError\u001b[0m                     Traceback (most recent call last)",
      "Cell \u001b[1;32mIn[40], line 1\u001b[0m\n\u001b[1;32m----> 1\u001b[0m \u001b[43msimulation\u001b[49m\u001b[38;5;241;43m.\u001b[39;49m\u001b[43mcalculate\u001b[49m\u001b[43m(\u001b[49m\u001b[38;5;124;43m'\u001b[39;49m\u001b[38;5;124;43mhousing_tax\u001b[39;49m\u001b[38;5;124;43m'\u001b[39;49m\u001b[43m,\u001b[49m\u001b[43m \u001b[49m\u001b[38;5;124;43m'\u001b[39;49m\u001b[38;5;124;43m2019-05\u001b[39;49m\u001b[38;5;124;43m'\u001b[39;49m\u001b[43m)\u001b[49m\n",
      "File \u001b[1;32mc:\\Documents\\Stage PSE\\Projet\\.venv\\lib\\site-packages\\openfisca_core\\simulations\\simulation.py:112\u001b[0m, in \u001b[0;36mSimulation.calculate\u001b[1;34m(self, variable_name, period)\u001b[0m\n\u001b[0;32m    109\u001b[0m \u001b[38;5;28mself\u001b[39m\u001b[38;5;241m.\u001b[39mtracer\u001b[38;5;241m.\u001b[39mrecord_calculation_start(variable_name, period)\n\u001b[0;32m    111\u001b[0m \u001b[38;5;28;01mtry\u001b[39;00m:\n\u001b[1;32m--> 112\u001b[0m     result \u001b[38;5;241m=\u001b[39m \u001b[38;5;28;43mself\u001b[39;49m\u001b[38;5;241;43m.\u001b[39;49m\u001b[43m_calculate\u001b[49m\u001b[43m(\u001b[49m\u001b[43mvariable_name\u001b[49m\u001b[43m,\u001b[49m\u001b[43m \u001b[49m\u001b[43mperiod\u001b[49m\u001b[43m)\u001b[49m\n\u001b[0;32m    113\u001b[0m     \u001b[38;5;28mself\u001b[39m\u001b[38;5;241m.\u001b[39mtracer\u001b[38;5;241m.\u001b[39mrecord_calculation_result(result)\n\u001b[0;32m    114\u001b[0m     \u001b[38;5;28;01mreturn\u001b[39;00m result\n",
      "File \u001b[1;32mc:\\Documents\\Stage PSE\\Projet\\.venv\\lib\\site-packages\\openfisca_core\\simulations\\simulation.py:127\u001b[0m, in \u001b[0;36mSimulation._calculate\u001b[1;34m(self, variable_name, period)\u001b[0m\n\u001b[0;32m    121\u001b[0m \u001b[38;5;250m\u001b[39m\u001b[38;5;124;03m\"\"\"Calculate the variable ``variable_name`` for the period ``period``, using the variable formula if it exists.\u001b[39;00m\n\u001b[0;32m    122\u001b[0m \n\u001b[0;32m    123\u001b[0m \u001b[38;5;124;03m:returns: A numpy array containing the result of the calculation\u001b[39;00m\n\u001b[0;32m    124\u001b[0m \u001b[38;5;124;03m\"\"\"\u001b[39;00m\n\u001b[0;32m    125\u001b[0m variable: Variable \u001b[38;5;241m|\u001b[39m \u001b[38;5;28;01mNone\u001b[39;00m\n\u001b[1;32m--> 127\u001b[0m population \u001b[38;5;241m=\u001b[39m \u001b[38;5;28;43mself\u001b[39;49m\u001b[38;5;241;43m.\u001b[39;49m\u001b[43mget_variable_population\u001b[49m\u001b[43m(\u001b[49m\u001b[43mvariable_name\u001b[49m\u001b[43m)\u001b[49m\n\u001b[0;32m    128\u001b[0m holder \u001b[38;5;241m=\u001b[39m population\u001b[38;5;241m.\u001b[39mget_holder(variable_name)\n\u001b[0;32m    129\u001b[0m variable \u001b[38;5;241m=\u001b[39m \u001b[38;5;28mself\u001b[39m\u001b[38;5;241m.\u001b[39mtax_benefit_system\u001b[38;5;241m.\u001b[39mget_variable(\n\u001b[0;32m    130\u001b[0m     variable_name,\n\u001b[0;32m    131\u001b[0m     check_existence\u001b[38;5;241m=\u001b[39m\u001b[38;5;28;01mTrue\u001b[39;00m,\n\u001b[0;32m    132\u001b[0m )\n",
      "File \u001b[1;32mc:\\Documents\\Stage PSE\\Projet\\.venv\\lib\\site-packages\\openfisca_core\\simulations\\simulation.py:545\u001b[0m, in \u001b[0;36mSimulation.get_variable_population\u001b[1;34m(self, variable_name)\u001b[0m\n\u001b[0;32m    542\u001b[0m \u001b[38;5;28;01mdef\u001b[39;00m\u001b[38;5;250m \u001b[39m\u001b[38;5;21mget_variable_population\u001b[39m(\u001b[38;5;28mself\u001b[39m, variable_name: \u001b[38;5;28mstr\u001b[39m) \u001b[38;5;241m-\u001b[39m\u001b[38;5;241m>\u001b[39m Population:\n\u001b[0;32m    543\u001b[0m     variable: Variable \u001b[38;5;241m|\u001b[39m \u001b[38;5;28;01mNone\u001b[39;00m\n\u001b[1;32m--> 545\u001b[0m     variable \u001b[38;5;241m=\u001b[39m \u001b[38;5;28;43mself\u001b[39;49m\u001b[38;5;241;43m.\u001b[39;49m\u001b[43mtax_benefit_system\u001b[49m\u001b[38;5;241;43m.\u001b[39;49m\u001b[43mget_variable\u001b[49m\u001b[43m(\u001b[49m\n\u001b[0;32m    546\u001b[0m \u001b[43m        \u001b[49m\u001b[43mvariable_name\u001b[49m\u001b[43m,\u001b[49m\n\u001b[0;32m    547\u001b[0m \u001b[43m        \u001b[49m\u001b[43mcheck_existence\u001b[49m\u001b[38;5;241;43m=\u001b[39;49m\u001b[38;5;28;43;01mTrue\u001b[39;49;00m\u001b[43m,\u001b[49m\n\u001b[0;32m    548\u001b[0m \u001b[43m    \u001b[49m\u001b[43m)\u001b[49m\n\u001b[0;32m    550\u001b[0m     \u001b[38;5;28;01mif\u001b[39;00m variable \u001b[38;5;129;01mis\u001b[39;00m \u001b[38;5;28;01mNone\u001b[39;00m:\n\u001b[0;32m    551\u001b[0m         \u001b[38;5;28;01mraise\u001b[39;00m errors\u001b[38;5;241m.\u001b[39mVariableNotFoundError(variable_name, \u001b[38;5;28mself\u001b[39m\u001b[38;5;241m.\u001b[39mtax_benefit_system)\n",
      "File \u001b[1;32mc:\\Documents\\Stage PSE\\Projet\\.venv\\lib\\site-packages\\openfisca_core\\taxbenefitsystems\\tax_benefit_system.py:391\u001b[0m, in \u001b[0;36mTaxBenefitSystem.get_variable\u001b[1;34m(self, variable_name, check_existence)\u001b[0m\n\u001b[0;32m    388\u001b[0m \u001b[38;5;28;01mif\u001b[39;00m \u001b[38;5;129;01mnot\u001b[39;00m \u001b[38;5;28misinstance\u001b[39m(variable, Variable) \u001b[38;5;129;01mand\u001b[39;00m \u001b[38;5;129;01mnot\u001b[39;00m check_existence:\n\u001b[0;32m    389\u001b[0m     \u001b[38;5;28;01mreturn\u001b[39;00m variable\n\u001b[1;32m--> 391\u001b[0m \u001b[38;5;28;01mraise\u001b[39;00m VariableNotFoundError(variable_name, \u001b[38;5;28mself\u001b[39m)\n",
      "\u001b[1;31mVariableNotFoundError\u001b[0m: You tried to calculate or to set a value for variable 'housing_tax', but it was not found in the loaded tax and benefit system (openfisca-france@169.14.10).\r\nAre you sure you spelled 'housing_tax' correctly?\r\nIf this code used to work and suddenly does not, this is most probably linked to an update of the tax and benefit system.\r\nLook at its changelog to learn about renames and removals and update your code. If it is an official package,\r\nit is probably available on <https://github.com/openfisca/openfisca-france/blob/master/CHANGELOG.md>."
     ]
    }
   ],
   "source": [
    "simulation.calculate('housing_tax', '2019-05')\n"
   ]
  }
 ],
 "metadata": {
  "kernelspec": {
   "display_name": ".venv",
   "language": "python",
   "name": "python3"
  },
  "language_info": {
   "codemirror_mode": {
    "name": "ipython",
    "version": 3
   },
   "file_extension": ".py",
   "mimetype": "text/x-python",
   "name": "python",
   "nbconvert_exporter": "python",
   "pygments_lexer": "ipython3",
   "version": "3.9.13"
  }
 },
 "nbformat": 4,
 "nbformat_minor": 2
}
